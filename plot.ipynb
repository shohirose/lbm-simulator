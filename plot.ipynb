{
 "cells": [
  {
   "cell_type": "code",
   "execution_count": 3,
   "metadata": {},
   "outputs": [],
   "source": [
    "import numpy as np\n",
    "import matplotlib.pyplot as plt\n",
    "from pathlib import Path\n",
    "\n",
    "%matplotlib inline"
   ]
  },
  {
   "cell_type": "code",
   "execution_count": 4,
   "metadata": {},
   "outputs": [
    {
     "name": "stdout",
     "output_type": "stream",
     "text": [
      "nu = 0.02, uc = 2.500000e-02\n"
     ]
    },
    {
     "ename": "IndexError",
     "evalue": "too many indices for array: array is 1-dimensional, but 2 were indexed",
     "output_type": "error",
     "traceback": [
      "\u001b[1;31m---------------------------------------------------------------------------\u001b[0m",
      "\u001b[1;31mIndexError\u001b[0m                                Traceback (most recent call last)",
      "Cell \u001b[1;32mIn[4], line 11\u001b[0m\n\u001b[0;32m      8\u001b[0m \u001b[39mprint\u001b[39m(\u001b[39mf\u001b[39m\u001b[39m\"\u001b[39m\u001b[39mnu = \u001b[39m\u001b[39m{\u001b[39;00mnu\u001b[39m:\u001b[39;00m\u001b[39m.2f\u001b[39m\u001b[39m}\u001b[39;00m\u001b[39m, uc = \u001b[39m\u001b[39m{\u001b[39;00muc\u001b[39m:\u001b[39;00m\u001b[39m.6e\u001b[39m\u001b[39m}\u001b[39;00m\u001b[39m\"\u001b[39m)\n\u001b[0;32m     10\u001b[0m ux \u001b[39m=\u001b[39m np\u001b[39m.\u001b[39mloadtxt(\u001b[39m\"\u001b[39m\u001b[39mux.txt\u001b[39m\u001b[39m\"\u001b[39m)\n\u001b[1;32m---> 11\u001b[0m ux \u001b[39m=\u001b[39m ux[:, \u001b[39m11\u001b[39;49m]\n\u001b[0;32m     12\u001b[0m x \u001b[39m=\u001b[39m ux\u001b[39m/\u001b[39muc\n\u001b[0;32m     13\u001b[0m slip \u001b[39m=\u001b[39m ux[\u001b[39m0\u001b[39m]\u001b[39m/\u001b[39muc\n",
      "\u001b[1;31mIndexError\u001b[0m: too many indices for array: array is 1-dimensional, but 2 were indexed"
     ]
    }
   ],
   "source": [
    "gx = 0.00001\n",
    "tau = 0.56\n",
    "ny = 21\n",
    "nu = (tau - 0.5) / 3.0\n",
    "h = float((ny - 1))\n",
    "uc = gx*h**2/(8.0*nu)\n",
    "y = np.linspace(0, h, ny)/h\n",
    "print(f\"nu = {nu:.2f}, uc = {uc:.6e}\")\n",
    "\n",
    "ux = np.loadtxt(\"ux.txt\")\n",
    "x = ux/uc\n",
    "slip = ux[0]/uc\n",
    "print(f\"slip = {slip:.6e}\")\n",
    "\n",
    "fig = plt.figure()\n",
    "ax = fig.add_subplot(111)\n",
    "ax.plot(x, y, \"-o\", color=\"k\", fillstyle=\"none\")\n",
    "ax.set_xlabel(\"u_x/u_c\")\n",
    "ax.set_ylabel(\"y/h\")"
   ]
  },
  {
   "cell_type": "code",
   "execution_count": null,
   "metadata": {},
   "outputs": [],
   "source": []
  }
 ],
 "metadata": {
  "kernelspec": {
   "display_name": "myenv",
   "language": "python",
   "name": "python3"
  },
  "language_info": {
   "codemirror_mode": {
    "name": "ipython",
    "version": 3
   },
   "file_extension": ".py",
   "mimetype": "text/x-python",
   "name": "python",
   "nbconvert_exporter": "python",
   "pygments_lexer": "ipython3",
   "version": "3.10.9"
  },
  "orig_nbformat": 4
 },
 "nbformat": 4,
 "nbformat_minor": 2
}
