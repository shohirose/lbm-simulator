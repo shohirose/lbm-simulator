{
 "cells": [
  {
   "cell_type": "code",
   "execution_count": 1,
   "metadata": {},
   "outputs": [],
   "source": [
    "import numpy as np\n",
    "import matplotlib.pyplot as plt\n",
    "from pathlib import Path\n",
    "import json\n",
    "from pathlib import Path\n",
    "\n",
    "%matplotlib inline"
   ]
  },
  {
   "cell_type": "code",
   "execution_count": 2,
   "metadata": {},
   "outputs": [
    {
     "ename": "TypeError",
     "evalue": "'_io.TextIOWrapper' object is not subscriptable",
     "output_type": "error",
     "traceback": [
      "\u001b[1;31m---------------------------------------------------------------------------\u001b[0m",
      "\u001b[1;31mTypeError\u001b[0m                                 Traceback (most recent call last)",
      "Cell \u001b[1;32mIn[2], line 6\u001b[0m\n\u001b[0;32m      3\u001b[0m     j \u001b[39m=\u001b[39m json\u001b[39m.\u001b[39mload(f)\n\u001b[0;32m      5\u001b[0m gx \u001b[39m=\u001b[39m j[\u001b[39m\"\u001b[39m\u001b[39mexternalForce\u001b[39m\u001b[39m\"\u001b[39m][\u001b[39m0\u001b[39m]\n\u001b[1;32m----> 6\u001b[0m tau \u001b[39m=\u001b[39m f[\u001b[39m\"\u001b[39;49m\u001b[39mrelaxationTime\u001b[39;49m\u001b[39m\"\u001b[39;49m]\n\u001b[0;32m      7\u001b[0m ny \u001b[39m=\u001b[39m f[\u001b[39m\"\u001b[39m\u001b[39mgridShape\u001b[39m\u001b[39m\"\u001b[39m][\u001b[39m1\u001b[39m]\n\u001b[0;32m      8\u001b[0m nu \u001b[39m=\u001b[39m (tau \u001b[39m-\u001b[39m \u001b[39m0.5\u001b[39m) \u001b[39m/\u001b[39m \u001b[39m3.0\u001b[39m\n",
      "\u001b[1;31mTypeError\u001b[0m: '_io.TextIOWrapper' object is not subscriptable"
     ]
    }
   ],
   "source": [
    "j = None\n",
    "with open(Path('data/poiseuille-flow-2d.json'), mode='r') as f:\n",
    "    j = json.load(f)\n",
    "\n",
    "gx = j[\"externalForce\"][0]\n",
    "tau = j[\"relaxationTime\"]\n",
    "ny = j[\"gridShape\"][1]\n",
    "nu = (tau - 0.5) / 3.0\n",
    "h = float((ny - 1))\n",
    "uc = gx*h**2/(8.0*nu)\n",
    "y = np.linspace(0, h, ny)/h\n",
    "print(f\"nu = {nu:.2f}, uc = {uc:.6e}\")\n",
    "\n",
    "ux = np.loadtxt(\"ux.txt\")\n",
    "x = ux/uc\n",
    "slip = ux[0]/uc\n",
    "print(f\"slip = {slip:.6e}\")\n",
    "\n",
    "fig = plt.figure()\n",
    "ax = fig.add_subplot(111)\n",
    "ax.plot(x, y, \"-o\", color=\"k\", fillstyle=\"none\")\n",
    "ax.set_xlabel(\"u_x/u_c\")\n",
    "ax.set_ylabel(\"y/h\")"
   ]
  },
  {
   "cell_type": "code",
   "execution_count": null,
   "metadata": {},
   "outputs": [],
   "source": []
  }
 ],
 "metadata": {
  "kernelspec": {
   "display_name": "myenv",
   "language": "python",
   "name": "python3"
  },
  "language_info": {
   "codemirror_mode": {
    "name": "ipython",
    "version": 3
   },
   "file_extension": ".py",
   "mimetype": "text/x-python",
   "name": "python",
   "nbconvert_exporter": "python",
   "pygments_lexer": "ipython3",
   "version": "3.10.9"
  },
  "orig_nbformat": 4
 },
 "nbformat": 4,
 "nbformat_minor": 2
}
